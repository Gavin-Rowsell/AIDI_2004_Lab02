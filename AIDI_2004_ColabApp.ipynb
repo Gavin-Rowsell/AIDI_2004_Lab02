{
  "nbformat": 4,
  "nbformat_minor": 0,
  "metadata": {
    "colab": {
      "name": "AIDI_2004_ColabApp.ipynb",
      "provenance": [],
      "authorship_tag": "ABX9TyNjk6AI/aT+7HRpZjrY04p2",
      "include_colab_link": true
    },
    "kernelspec": {
      "name": "python3",
      "display_name": "Python 3"
    }
  },
  "cells": [
    {
      "cell_type": "markdown",
      "metadata": {
        "id": "view-in-github",
        "colab_type": "text"
      },
      "source": [
        "<a href=\"https://colab.research.google.com/github/Gavin-Rowsell/AIDI_2004_Lab02/blob/master/AIDI_2004_ColabApp.ipynb\" target=\"_parent\"><img src=\"https://colab.research.google.com/assets/colab-badge.svg\" alt=\"Open In Colab\"/></a>"
      ]
    },
    {
      "cell_type": "code",
      "metadata": {
        "colab": {
          "base_uri": "https://localhost:8080/"
        },
        "id": "MSqB2Ya2b9Hg",
        "outputId": "7754c807-31b9-4830-8e58-f26f809ee6e9"
      },
      "source": [
        "var1 = input(\"Enter a number: \")\r\n",
        "var2 = input(\"Enter another number: \")\r\n",
        "res = int(var1) - int(var2)\r\n",
        "print(\"Number 1 minus number 2 =\", res)"
      ],
      "execution_count": 2,
      "outputs": [
        {
          "output_type": "stream",
          "text": [
            "Enter a number: 3\n",
            "Enter another number: 4\n",
            "Number 1 minus number 2 = -1\n"
          ],
          "name": "stdout"
        }
      ]
    }
  ]
}